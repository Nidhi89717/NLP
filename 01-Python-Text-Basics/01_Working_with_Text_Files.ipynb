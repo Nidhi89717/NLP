{
  "cells": [
    {
      "cell_type": "markdown",
      "metadata": {
        "id": "view-in-github",
        "colab_type": "text"
      },
      "source": [
        "<a href=\"https://colab.research.google.com/github/Nidhi89717/NLP/blob/main/01-Python-Text-Basics/01_Working_with_Text_Files.ipynb\" target=\"_parent\"><img src=\"https://colab.research.google.com/assets/colab-badge.svg\" alt=\"Open In Colab\"/></a>"
      ]
    },
    {
      "cell_type": "markdown",
      "id": "90f4e6fa",
      "metadata": {
        "id": "90f4e6fa"
      },
      "source": [
        "# Working with Text Files\n",
        "\n",
        "\n",
        "## Formatted String Literals (f-strings)"
      ]
    },
    {
      "cell_type": "code",
      "execution_count": null,
      "id": "ca36f4c4",
      "metadata": {
        "id": "ca36f4c4"
      },
      "outputs": [],
      "source": [
        "person = {'Nidhi'}"
      ]
    },
    {
      "cell_type": "code",
      "execution_count": null,
      "id": "ab9953a2",
      "metadata": {
        "id": "ab9953a2",
        "outputId": "10a47113-cf5d-4128-9db9-275defb484bd",
        "colab": {
          "base_uri": "https://localhost:8080/"
        }
      },
      "outputs": [
        {
          "output_type": "stream",
          "name": "stdout",
          "text": [
            "My name is {'Nidhi'}\n"
          ]
        }
      ],
      "source": [
        "print(f\"My name is {person}\")"
      ]
    },
    {
      "cell_type": "code",
      "execution_count": null,
      "id": "2e75e038",
      "metadata": {
        "id": "2e75e038"
      },
      "outputs": [],
      "source": [
        "d = {'a':123,'b':456}"
      ]
    },
    {
      "cell_type": "code",
      "execution_count": null,
      "id": "c42817f8",
      "metadata": {
        "id": "c42817f8",
        "outputId": "22b7b00c-32e2-40ad-f54d-f391d0b1d2ee",
        "colab": {
          "base_uri": "https://localhost:8080/"
        }
      },
      "outputs": [
        {
          "output_type": "stream",
          "name": "stdout",
          "text": [
            "123\n"
          ]
        }
      ],
      "source": [
        "print(f\"{d['a']}\")"
      ]
    },
    {
      "cell_type": "code",
      "execution_count": null,
      "id": "e4406432",
      "metadata": {
        "id": "e4406432"
      },
      "outputs": [],
      "source": [
        "mylist = [1,2,3,4]"
      ]
    },
    {
      "cell_type": "code",
      "execution_count": null,
      "id": "6da25569",
      "metadata": {
        "id": "6da25569",
        "outputId": "d644d8e6-38fe-4da5-ea4e-098bcee33e44",
        "colab": {
          "base_uri": "https://localhost:8080/"
        }
      },
      "outputs": [
        {
          "output_type": "stream",
          "name": "stdout",
          "text": [
            "1\n"
          ]
        }
      ],
      "source": [
        "print(f'{mylist[0]}')"
      ]
    },
    {
      "cell_type": "code",
      "execution_count": null,
      "id": "b9b95c97",
      "metadata": {
        "id": "b9b95c97"
      },
      "outputs": [],
      "source": [
        "library = [('Author', 'Topic', 'Pages'), ('Twain', 'Rafting', 601), ('Feynman', 'Physics', 95), ('Hamilton', 'Mythology', 144)]"
      ]
    },
    {
      "cell_type": "code",
      "execution_count": null,
      "id": "0b16b497",
      "metadata": {
        "id": "0b16b497",
        "outputId": "805ea9ab-39c2-430a-8521-689998681d2f",
        "colab": {
          "base_uri": "https://localhost:8080/"
        }
      },
      "outputs": [
        {
          "output_type": "execute_result",
          "data": {
            "text/plain": [
              "[('Author', 'Topic', 'Pages'),\n",
              " ('Twain', 'Rafting', 601),\n",
              " ('Feynman', 'Physics', 95),\n",
              " ('Hamilton', 'Mythology', 144)]"
            ]
          },
          "metadata": {},
          "execution_count": 67
        }
      ],
      "source": [
        "library"
      ]
    },
    {
      "cell_type": "code",
      "execution_count": null,
      "id": "7556cbb1",
      "metadata": {
        "id": "7556cbb1",
        "outputId": "8f2db388-fa57-4158-c0b5-6b3388ef7725",
        "colab": {
          "base_uri": "https://localhost:8080/"
        }
      },
      "outputs": [
        {
          "output_type": "stream",
          "name": "stdout",
          "text": [
            "author is Author\n",
            "author is Twain\n",
            "author is Feynman\n",
            "author is Hamilton\n"
          ]
        }
      ],
      "source": [
        "for author in library:\n",
        "    print(f\"author is {author[0]}\")"
      ]
    },
    {
      "cell_type": "code",
      "execution_count": null,
      "id": "804d09bb",
      "metadata": {
        "id": "804d09bb",
        "outputId": "b19b9f05-31d1-4370-ef4c-17ae68848025",
        "colab": {
          "base_uri": "https://localhost:8080/"
        }
      },
      "outputs": [
        {
          "output_type": "stream",
          "name": "stdout",
          "text": [
            "Author is Author\n",
            "Author is Twain\n",
            "Author is Feynman\n",
            "Author is Hamilton\n"
          ]
        }
      ],
      "source": [
        "for author,topic,pages in library:\n",
        "    print(f\"Author is {author}\")"
      ]
    },
    {
      "cell_type": "code",
      "execution_count": null,
      "id": "f7a4a1dd",
      "metadata": {
        "id": "f7a4a1dd",
        "outputId": "f03c29f4-f536-4427-9233-7f30d8c23a35",
        "colab": {
          "base_uri": "https://localhost:8080/"
        }
      },
      "outputs": [
        {
          "output_type": "stream",
          "name": "stdout",
          "text": [
            "Author Topic Pages\n",
            "Twain Rafting 601\n",
            "Feynman Physics 95\n",
            "Hamilton Mythology 144\n"
          ]
        }
      ],
      "source": [
        "for author,topic,pages in library:\n",
        "    print(f\"{author} {topic} {pages}\")"
      ]
    },
    {
      "cell_type": "markdown",
      "id": "8583ee42",
      "metadata": {
        "id": "8583ee42"
      },
      "source": [
        "### Minimum Widths, Alignment and Padding\n",
        "One can pass arguments inside a nested set of curly braces to set a minimum width for the field, the alignment and even padding characters."
      ]
    },
    {
      "cell_type": "code",
      "execution_count": null,
      "id": "42d4ebe0",
      "metadata": {
        "id": "42d4ebe0"
      },
      "outputs": [],
      "source": [
        "library = [('Author', 'Topic', 'Pages'), ('Twain', 'Rafting in water alone', 601), ('Feynman', 'Physics', 95), ('Hamilton', 'Mythology', 144)]"
      ]
    },
    {
      "cell_type": "code",
      "execution_count": null,
      "id": "fbebdebf",
      "metadata": {
        "id": "fbebdebf",
        "outputId": "5566537e-5510-426a-e706-662a308d1c31",
        "colab": {
          "base_uri": "https://localhost:8080/"
        }
      },
      "outputs": [
        {
          "output_type": "stream",
          "name": "stdout",
          "text": [
            "Author     Topic                          Pages     \n",
            "Twain      Rafting in water alone                601\n",
            "Feynman    Physics                                95\n",
            "Hamilton   Mythology                             144\n"
          ]
        }
      ],
      "source": [
        "for author,topic,pages in library:\n",
        "    print(f\"{author:{10}} {topic:{30}} {pages:{10}}\")"
      ]
    },
    {
      "cell_type": "markdown",
      "id": "ed35d8dc",
      "metadata": {
        "id": "ed35d8dc"
      },
      "source": [
        "Here the first three lines align, except `Pages` follows a default left-alignment while numbers are right-aligned. Also, the fourth line's page number is pushed to the right as `Mythology` exceeds the minimum field width of `8`. When setting minimum field widths make sure to take the longest item into account.\n",
        "\n",
        "To set the alignment, use the character `<` for left-align,  `^` for center, `>` for right.<br>\n",
        "To set padding, precede the alignment character with the padding character (`-` and `.` are common choices).\n",
        "\n",
        "Let's make some adjustments:"
      ]
    },
    {
      "cell_type": "code",
      "execution_count": null,
      "id": "63c8bc3c",
      "metadata": {
        "id": "63c8bc3c",
        "outputId": "038dcd20-cf4a-4edf-9f09-9b4f99087b78",
        "colab": {
          "base_uri": "https://localhost:8080/"
        }
      },
      "outputs": [
        {
          "output_type": "stream",
          "name": "stdout",
          "text": [
            "Author     Topic                          .....Pages\n",
            "Twain      Rafting in water alone         .......601\n",
            "Feynman    Physics                        ........95\n",
            "Hamilton   Mythology                      .......144\n"
          ]
        }
      ],
      "source": [
        "for author,topic,pages in library:\n",
        "    print(f\"{author:{10}} {topic:{30}} {pages:.>{10}}\")"
      ]
    },
    {
      "cell_type": "markdown",
      "id": "905ab911",
      "metadata": {
        "id": "905ab911"
      },
      "source": [
        "### Date Formatting"
      ]
    },
    {
      "cell_type": "code",
      "execution_count": null,
      "id": "7a21d446",
      "metadata": {
        "id": "7a21d446"
      },
      "outputs": [],
      "source": [
        "from datetime import datetime"
      ]
    },
    {
      "cell_type": "code",
      "execution_count": null,
      "id": "e9549ec4",
      "metadata": {
        "id": "e9549ec4"
      },
      "outputs": [],
      "source": [
        "today = datetime(year=2023,month=1,day=6)"
      ]
    },
    {
      "cell_type": "code",
      "execution_count": null,
      "id": "5ad97161",
      "metadata": {
        "id": "5ad97161",
        "outputId": "b5d059d7-c606-45a4-de49-25b4d0925a10",
        "colab": {
          "base_uri": "https://localhost:8080/"
        }
      },
      "outputs": [
        {
          "output_type": "stream",
          "name": "stdout",
          "text": [
            "2023-01-06 00:00:00\n"
          ]
        }
      ],
      "source": [
        "print(f\"{today}\")"
      ]
    },
    {
      "cell_type": "code",
      "execution_count": null,
      "id": "5f6867c6",
      "metadata": {
        "id": "5f6867c6",
        "outputId": "3e7224de-e3fa-4473-ba91-50eace1255df",
        "colab": {
          "base_uri": "https://localhost:8080/"
        }
      },
      "outputs": [
        {
          "output_type": "execute_result",
          "data": {
            "text/plain": [
              "datetime.datetime(2023, 1, 6, 0, 0)"
            ]
          },
          "metadata": {},
          "execution_count": 77
        }
      ],
      "source": [
        "today"
      ]
    },
    {
      "cell_type": "code",
      "execution_count": null,
      "id": "a3349549",
      "metadata": {
        "scrolled": true,
        "id": "a3349549",
        "outputId": "41a2e3b8-6180-4a04-eca7-cfbee26e5af0",
        "colab": {
          "base_uri": "https://localhost:8080/"
        }
      },
      "outputs": [
        {
          "output_type": "stream",
          "name": "stdout",
          "text": [
            "January 06, 2023\n"
          ]
        }
      ],
      "source": [
        "print(f\"{today:%B %d, %Y}\")"
      ]
    },
    {
      "cell_type": "markdown",
      "id": "ab941425",
      "metadata": {
        "id": "ab941425"
      },
      "source": [
        "# Files\n",
        "\n",
        "Python has a built-in open function that allows us to open and play with basic file types. \n",
        "\n",
        "## Creating a File with IPython\n",
        "#### This function is specific to jupyter notebooks! "
      ]
    },
    {
      "cell_type": "code",
      "execution_count": null,
      "id": "c491e591",
      "metadata": {
        "id": "c491e591",
        "outputId": "9054401f-ea50-4fb6-9b6d-737e4c352f89",
        "colab": {
          "base_uri": "https://localhost:8080/"
        }
      },
      "outputs": [
        {
          "output_type": "stream",
          "name": "stdout",
          "text": [
            "Overwriting test.txt\n"
          ]
        }
      ],
      "source": [
        "%%writefile test.txt\n",
        "Hello, this is a quick test file\n",
        "This is the second line of the file"
      ]
    },
    {
      "cell_type": "code",
      "execution_count": null,
      "id": "5d56195b",
      "metadata": {
        "id": "5d56195b",
        "outputId": "7c7d37a5-bbb7-43ab-d805-e57a371a41ec",
        "colab": {
          "base_uri": "https://localhost:8080/",
          "height": 35
        }
      },
      "outputs": [
        {
          "output_type": "execute_result",
          "data": {
            "text/plain": [
              "'/content'"
            ],
            "application/vnd.google.colaboratory.intrinsic+json": {
              "type": "string"
            }
          },
          "metadata": {},
          "execution_count": 80
        }
      ],
      "source": [
        "pwd"
      ]
    },
    {
      "cell_type": "code",
      "execution_count": null,
      "id": "119b703e",
      "metadata": {
        "id": "119b703e"
      },
      "outputs": [],
      "source": [
        "myfile = open('test.txt')"
      ]
    },
    {
      "cell_type": "code",
      "execution_count": null,
      "id": "0ac918c5",
      "metadata": {
        "id": "0ac918c5",
        "outputId": "9a889a95-bd7f-4a78-eadb-35b87e387124",
        "colab": {
          "base_uri": "https://localhost:8080/"
        }
      },
      "outputs": [
        {
          "output_type": "execute_result",
          "data": {
            "text/plain": [
              "<_io.TextIOWrapper name='test.txt' mode='r' encoding='UTF-8'>"
            ]
          },
          "metadata": {},
          "execution_count": 82
        }
      ],
      "source": [
        "myfile"
      ]
    },
    {
      "cell_type": "markdown",
      "id": "963acaee",
      "metadata": {
        "id": "963acaee"
      },
      "source": [
        "### .read() and .seek()"
      ]
    },
    {
      "cell_type": "code",
      "execution_count": null,
      "id": "3015fad7",
      "metadata": {
        "id": "3015fad7",
        "outputId": "c7e5cc56-9367-447e-caf5-06209ee442b8",
        "colab": {
          "base_uri": "https://localhost:8080/",
          "height": 35
        }
      },
      "outputs": [
        {
          "output_type": "execute_result",
          "data": {
            "text/plain": [
              "'Hello, this is a quick test file\\nThis is the second line of the file\\n'"
            ],
            "application/vnd.google.colaboratory.intrinsic+json": {
              "type": "string"
            }
          },
          "metadata": {},
          "execution_count": 83
        }
      ],
      "source": [
        "myfile.read()"
      ]
    },
    {
      "cell_type": "code",
      "execution_count": null,
      "id": "5f143d2a",
      "metadata": {
        "id": "5f143d2a",
        "outputId": "635ecfcd-23c8-45f3-94fd-02fb337ec268",
        "colab": {
          "base_uri": "https://localhost:8080/",
          "height": 35
        }
      },
      "outputs": [
        {
          "output_type": "execute_result",
          "data": {
            "text/plain": [
              "''"
            ],
            "application/vnd.google.colaboratory.intrinsic+json": {
              "type": "string"
            }
          },
          "metadata": {},
          "execution_count": 84
        }
      ],
      "source": [
        "myfile.read()"
      ]
    },
    {
      "cell_type": "code",
      "execution_count": null,
      "id": "22c11115",
      "metadata": {
        "id": "22c11115",
        "outputId": "6b589f03-4a48-48e9-bf9d-e16c4e205301",
        "colab": {
          "base_uri": "https://localhost:8080/"
        }
      },
      "outputs": [
        {
          "output_type": "execute_result",
          "data": {
            "text/plain": [
              "0"
            ]
          },
          "metadata": {},
          "execution_count": 85
        }
      ],
      "source": [
        "myfile.seek(0)"
      ]
    },
    {
      "cell_type": "code",
      "execution_count": null,
      "id": "162cb388",
      "metadata": {
        "id": "162cb388",
        "outputId": "54bf472e-394b-4759-9cd3-dd8821ff541f",
        "colab": {
          "base_uri": "https://localhost:8080/",
          "height": 35
        }
      },
      "outputs": [
        {
          "output_type": "execute_result",
          "data": {
            "text/plain": [
              "'Hello, this is a quick test file\\nThis is the second line of the file\\n'"
            ],
            "application/vnd.google.colaboratory.intrinsic+json": {
              "type": "string"
            }
          },
          "metadata": {},
          "execution_count": 86
        }
      ],
      "source": [
        "myfile.read()"
      ]
    },
    {
      "cell_type": "code",
      "execution_count": null,
      "id": "12f6cce6",
      "metadata": {
        "id": "12f6cce6",
        "outputId": "71cbe0e2-21dc-4865-d7e6-7e89727cf495",
        "colab": {
          "base_uri": "https://localhost:8080/"
        }
      },
      "outputs": [
        {
          "output_type": "execute_result",
          "data": {
            "text/plain": [
              "0"
            ]
          },
          "metadata": {},
          "execution_count": 87
        }
      ],
      "source": [
        "myfile.seek(0)"
      ]
    },
    {
      "cell_type": "code",
      "execution_count": null,
      "id": "842bdb12",
      "metadata": {
        "id": "842bdb12"
      },
      "outputs": [],
      "source": [
        "content = myfile.read()"
      ]
    },
    {
      "cell_type": "code",
      "execution_count": null,
      "id": "89314e3b",
      "metadata": {
        "id": "89314e3b",
        "outputId": "f01c5334-5307-440e-cc84-f8575b7bf41b",
        "colab": {
          "base_uri": "https://localhost:8080/"
        }
      },
      "outputs": [
        {
          "output_type": "stream",
          "name": "stdout",
          "text": [
            "Hello, this is a quick test file\n",
            "This is the second line of the file\n",
            "\n"
          ]
        }
      ],
      "source": [
        "print(content)"
      ]
    },
    {
      "cell_type": "code",
      "execution_count": null,
      "id": "cccab42f",
      "metadata": {
        "id": "cccab42f",
        "outputId": "bb2a8225-a8a6-4953-a349-8917422ee738",
        "colab": {
          "base_uri": "https://localhost:8080/",
          "height": 35
        }
      },
      "outputs": [
        {
          "output_type": "execute_result",
          "data": {
            "text/plain": [
              "'Hello, this is a quick test file\\nThis is the second line of the file\\n'"
            ],
            "application/vnd.google.colaboratory.intrinsic+json": {
              "type": "string"
            }
          },
          "metadata": {},
          "execution_count": 90
        }
      ],
      "source": [
        "content"
      ]
    },
    {
      "cell_type": "code",
      "execution_count": null,
      "id": "1878f6d0",
      "metadata": {
        "id": "1878f6d0"
      },
      "outputs": [],
      "source": [
        "myfile.close()"
      ]
    },
    {
      "cell_type": "code",
      "execution_count": null,
      "id": "ff7c64e8",
      "metadata": {
        "id": "ff7c64e8"
      },
      "outputs": [],
      "source": [
        "myfile = open('test.txt')"
      ]
    },
    {
      "cell_type": "code",
      "execution_count": null,
      "id": "cdcc79b0",
      "metadata": {
        "id": "cdcc79b0",
        "outputId": "1f532591-c8b1-4088-d659-d38567c9b601",
        "colab": {
          "base_uri": "https://localhost:8080/"
        }
      },
      "outputs": [
        {
          "output_type": "execute_result",
          "data": {
            "text/plain": [
              "['Hello, this is a quick test file\\n', 'This is the second line of the file\\n']"
            ]
          },
          "metadata": {},
          "execution_count": 93
        }
      ],
      "source": [
        "myfile.readlines()"
      ]
    },
    {
      "cell_type": "code",
      "execution_count": null,
      "id": "5c89fd0e",
      "metadata": {
        "id": "5c89fd0e",
        "outputId": "835c56e1-7d43-4dac-a7a8-85deb159c2b6",
        "colab": {
          "base_uri": "https://localhost:8080/"
        }
      },
      "outputs": [
        {
          "output_type": "execute_result",
          "data": {
            "text/plain": [
              "0"
            ]
          },
          "metadata": {},
          "execution_count": 94
        }
      ],
      "source": [
        "myfile.seek(0)"
      ]
    },
    {
      "cell_type": "code",
      "execution_count": null,
      "id": "62fe860b",
      "metadata": {
        "id": "62fe860b"
      },
      "outputs": [],
      "source": [
        "mylines = myfile.readlines()"
      ]
    },
    {
      "cell_type": "code",
      "execution_count": null,
      "id": "c8bff2fb",
      "metadata": {
        "id": "c8bff2fb",
        "outputId": "9d6b508b-ab63-4d3e-9335-00047786d6e0",
        "colab": {
          "base_uri": "https://localhost:8080/"
        }
      },
      "outputs": [
        {
          "output_type": "stream",
          "name": "stdout",
          "text": [
            "H\n",
            "T\n"
          ]
        }
      ],
      "source": [
        "for line in mylines:\n",
        "    print(line[0])"
      ]
    },
    {
      "cell_type": "code",
      "execution_count": null,
      "id": "2993f934",
      "metadata": {
        "id": "2993f934",
        "outputId": "c425bb00-c469-4873-db45-cedeae0fce70",
        "colab": {
          "base_uri": "https://localhost:8080/"
        }
      },
      "outputs": [
        {
          "output_type": "stream",
          "name": "stdout",
          "text": [
            "Hello,\n",
            "This\n"
          ]
        }
      ],
      "source": [
        "for line in mylines:\n",
        "    print(line.split()[0])"
      ]
    },
    {
      "cell_type": "markdown",
      "id": "6e98db28",
      "metadata": {
        "id": "6e98db28"
      },
      "source": [
        "## Writing to a File\n",
        "\n",
        "By default, the `open()` function will only allow us to read the file. We need to pass the argument `'w'` to write over the file. For example:"
      ]
    },
    {
      "cell_type": "code",
      "execution_count": null,
      "id": "c70526ff",
      "metadata": {
        "id": "c70526ff"
      },
      "outputs": [],
      "source": [
        "myfile = open('test.txt','w+')"
      ]
    },
    {
      "cell_type": "markdown",
      "id": "a5d9887e",
      "metadata": {
        "id": "a5d9887e"
      },
      "source": [
        "<div class=\"alert alert-danger\" style=\"margin: 20px\">**Use caution!**<br>\n",
        "Opening a file with 'w' or 'w+' *truncates the original*, meaning that anything that was in the original file **is deleted**!</div>"
      ]
    },
    {
      "cell_type": "code",
      "execution_count": null,
      "id": "9a7dfe4d",
      "metadata": {
        "scrolled": false,
        "id": "9a7dfe4d",
        "outputId": "69630243-aabc-4ad0-8a32-74002b9802ea",
        "colab": {
          "base_uri": "https://localhost:8080/",
          "height": 35
        }
      },
      "outputs": [
        {
          "output_type": "execute_result",
          "data": {
            "text/plain": [
              "''"
            ],
            "application/vnd.google.colaboratory.intrinsic+json": {
              "type": "string"
            }
          },
          "metadata": {},
          "execution_count": 99
        }
      ],
      "source": [
        "myfile.read()"
      ]
    },
    {
      "cell_type": "code",
      "execution_count": null,
      "id": "3f2bdbe3",
      "metadata": {
        "id": "3f2bdbe3",
        "outputId": "daa2bdfc-ff44-4594-b096-08c6d331fe2d",
        "colab": {
          "base_uri": "https://localhost:8080/"
        }
      },
      "outputs": [
        {
          "output_type": "execute_result",
          "data": {
            "text/plain": [
              "17"
            ]
          },
          "metadata": {},
          "execution_count": 100
        }
      ],
      "source": [
        "myfile.write('MY BRAND NEW TEXT')"
      ]
    },
    {
      "cell_type": "code",
      "execution_count": null,
      "id": "a0ce68fb",
      "metadata": {
        "id": "a0ce68fb",
        "outputId": "4ae71d97-eb53-4359-e2ba-643bb43eaba1",
        "colab": {
          "base_uri": "https://localhost:8080/"
        }
      },
      "outputs": [
        {
          "output_type": "execute_result",
          "data": {
            "text/plain": [
              "0"
            ]
          },
          "metadata": {},
          "execution_count": 101
        }
      ],
      "source": [
        "myfile.seek(0)"
      ]
    },
    {
      "cell_type": "code",
      "execution_count": null,
      "id": "03fc8d9a",
      "metadata": {
        "id": "03fc8d9a",
        "outputId": "a02f7f1c-b03c-4df8-be8f-e91dd1853a14",
        "colab": {
          "base_uri": "https://localhost:8080/",
          "height": 35
        }
      },
      "outputs": [
        {
          "output_type": "execute_result",
          "data": {
            "text/plain": [
              "'MY BRAND NEW TEXT'"
            ],
            "application/vnd.google.colaboratory.intrinsic+json": {
              "type": "string"
            }
          },
          "metadata": {},
          "execution_count": 102
        }
      ],
      "source": [
        "myfile.read()"
      ]
    },
    {
      "cell_type": "code",
      "execution_count": null,
      "id": "83160172",
      "metadata": {
        "id": "83160172"
      },
      "outputs": [],
      "source": [
        "myfile.close()"
      ]
    },
    {
      "cell_type": "markdown",
      "id": "df2d5829",
      "metadata": {
        "id": "df2d5829"
      },
      "source": [
        "## Appending to a File\n",
        "Passing the argument `'a'` opens the file and puts the pointer at the end, so anything written is appended. Like `'w+'`, `'a+'` lets us read and write to a file. If the file does not exist, one will be created."
      ]
    },
    {
      "cell_type": "code",
      "execution_count": null,
      "id": "c9a48822",
      "metadata": {
        "id": "c9a48822"
      },
      "outputs": [],
      "source": [
        "myfile = open('whoops.txt','a+')"
      ]
    },
    {
      "cell_type": "code",
      "execution_count": null,
      "id": "6d922e6e",
      "metadata": {
        "id": "6d922e6e",
        "outputId": "93ea07f7-0e87-47c0-c85f-d3d9fb12dfe0",
        "colab": {
          "base_uri": "https://localhost:8080/"
        }
      },
      "outputs": [
        {
          "output_type": "execute_result",
          "data": {
            "text/plain": [
              "27"
            ]
          },
          "metadata": {},
          "execution_count": 105
        }
      ],
      "source": [
        "myfile.write('My first line in a+ opening')"
      ]
    },
    {
      "cell_type": "code",
      "execution_count": null,
      "id": "31e5a1f1",
      "metadata": {
        "id": "31e5a1f1"
      },
      "outputs": [],
      "source": [
        "myfile.close()"
      ]
    },
    {
      "cell_type": "code",
      "execution_count": null,
      "id": "fbb67250",
      "metadata": {
        "id": "fbb67250"
      },
      "outputs": [],
      "source": [
        "myfile = open('whoops.txt',mode='a+')"
      ]
    },
    {
      "cell_type": "code",
      "execution_count": null,
      "id": "f0d79f77",
      "metadata": {
        "id": "f0d79f77",
        "outputId": "f82cf19e-28ac-4d52-c6e0-222892fee4d5",
        "colab": {
          "base_uri": "https://localhost:8080/"
        }
      },
      "outputs": [
        {
          "output_type": "execute_result",
          "data": {
            "text/plain": [
              "45"
            ]
          },
          "metadata": {},
          "execution_count": 108
        }
      ],
      "source": [
        "myfile.write('This is an added line, because I used a+ mode')"
      ]
    },
    {
      "cell_type": "code",
      "execution_count": null,
      "id": "97c921e5",
      "metadata": {
        "id": "97c921e5",
        "outputId": "423c9ca6-0316-48a3-80ee-032d4c838144",
        "colab": {
          "base_uri": "https://localhost:8080/"
        }
      },
      "outputs": [
        {
          "output_type": "execute_result",
          "data": {
            "text/plain": [
              "0"
            ]
          },
          "metadata": {},
          "execution_count": 109
        }
      ],
      "source": [
        "myfile.seek(0)"
      ]
    },
    {
      "cell_type": "code",
      "execution_count": null,
      "id": "8d37bcf1",
      "metadata": {
        "id": "8d37bcf1",
        "outputId": "f803bde9-d5f6-4bd1-e123-7a733af3a23f",
        "colab": {
          "base_uri": "https://localhost:8080/",
          "height": 52
        }
      },
      "outputs": [
        {
          "output_type": "execute_result",
          "data": {
            "text/plain": [
              "'My first line in a+ openingThis is an added line, because I used a+ mode\\nThis is a real new line, on the next lineMy first line in a+ openingThis is an added line, because I used a+ mode'"
            ],
            "application/vnd.google.colaboratory.intrinsic+json": {
              "type": "string"
            }
          },
          "metadata": {},
          "execution_count": 110
        }
      ],
      "source": [
        "myfile.read()"
      ]
    },
    {
      "cell_type": "code",
      "execution_count": null,
      "id": "1faf8a02",
      "metadata": {
        "id": "1faf8a02",
        "outputId": "73d1fbda-1c2e-4027-8ea1-68cc75a95ba7",
        "colab": {
          "base_uri": "https://localhost:8080/"
        }
      },
      "outputs": [
        {
          "output_type": "execute_result",
          "data": {
            "text/plain": [
              "42"
            ]
          },
          "metadata": {},
          "execution_count": 111
        }
      ],
      "source": [
        "myfile.write('\\nThis is a real new line, on the next line')"
      ]
    },
    {
      "cell_type": "code",
      "execution_count": null,
      "id": "2fca1773",
      "metadata": {
        "id": "2fca1773",
        "outputId": "2779cd34-0972-4e1f-d67e-26eeb2f978d8",
        "colab": {
          "base_uri": "https://localhost:8080/"
        }
      },
      "outputs": [
        {
          "output_type": "execute_result",
          "data": {
            "text/plain": [
              "0"
            ]
          },
          "metadata": {},
          "execution_count": 112
        }
      ],
      "source": [
        "myfile.seek(0)"
      ]
    },
    {
      "cell_type": "code",
      "execution_count": null,
      "id": "a9487756",
      "metadata": {
        "id": "a9487756",
        "outputId": "fedfa409-e470-4b02-e5c8-c069a3c901ae",
        "colab": {
          "base_uri": "https://localhost:8080/",
          "height": 52
        }
      },
      "outputs": [
        {
          "output_type": "execute_result",
          "data": {
            "text/plain": [
              "'My first line in a+ openingThis is an added line, because I used a+ mode\\nThis is a real new line, on the next lineMy first line in a+ openingThis is an added line, because I used a+ mode\\nThis is a real new line, on the next line'"
            ],
            "application/vnd.google.colaboratory.intrinsic+json": {
              "type": "string"
            }
          },
          "metadata": {},
          "execution_count": 113
        }
      ],
      "source": [
        "myfile.read()"
      ]
    },
    {
      "cell_type": "code",
      "execution_count": null,
      "id": "ef3f09ea",
      "metadata": {
        "id": "ef3f09ea",
        "outputId": "c7eb9f22-2f58-433b-e1dc-413ada4a79e9",
        "colab": {
          "base_uri": "https://localhost:8080/"
        }
      },
      "outputs": [
        {
          "output_type": "execute_result",
          "data": {
            "text/plain": [
              "0"
            ]
          },
          "metadata": {},
          "execution_count": 114
        }
      ],
      "source": [
        "myfile.seek(0)"
      ]
    },
    {
      "cell_type": "code",
      "execution_count": null,
      "id": "dfad8e01",
      "metadata": {
        "id": "dfad8e01",
        "outputId": "51de04ec-725d-48dc-d18b-8ef361181bdf",
        "colab": {
          "base_uri": "https://localhost:8080/"
        }
      },
      "outputs": [
        {
          "output_type": "stream",
          "name": "stdout",
          "text": [
            "My first line in a+ openingThis is an added line, because I used a+ mode\n",
            "This is a real new line, on the next lineMy first line in a+ openingThis is an added line, because I used a+ mode\n",
            "This is a real new line, on the next line\n"
          ]
        }
      ],
      "source": [
        "print(myfile.read())"
      ]
    },
    {
      "cell_type": "code",
      "execution_count": null,
      "id": "11aef977",
      "metadata": {
        "id": "11aef977"
      },
      "outputs": [],
      "source": [
        "myfile.close()"
      ]
    },
    {
      "cell_type": "markdown",
      "id": "17ad0357",
      "metadata": {
        "id": "17ad0357"
      },
      "source": [
        "## Iterating through a File"
      ]
    },
    {
      "cell_type": "code",
      "execution_count": null,
      "id": "61aeb51f",
      "metadata": {
        "id": "61aeb51f"
      },
      "outputs": [],
      "source": [
        "with open('whoops.txt','r') as mynewfile:\n",
        "    myvariable = mynewfile.readlines()"
      ]
    },
    {
      "cell_type": "code",
      "execution_count": null,
      "id": "0954b9cc",
      "metadata": {
        "id": "0954b9cc",
        "outputId": "f3fb3215-42e3-44d8-ea92-20dbe5dbe18e",
        "colab": {
          "base_uri": "https://localhost:8080/"
        }
      },
      "outputs": [
        {
          "output_type": "execute_result",
          "data": {
            "text/plain": [
              "['My first line in a+ openingThis is an added line, because I used a+ mode\\n',\n",
              " 'This is a real new line, on the next lineMy first line in a+ openingThis is an added line, because I used a+ mode\\n',\n",
              " 'This is a real new line, on the next line']"
            ]
          },
          "metadata": {},
          "execution_count": 118
        }
      ],
      "source": [
        "myvariable"
      ]
    }
  ],
  "metadata": {
    "kernelspec": {
      "display_name": "Python 3 (ipykernel)",
      "language": "python",
      "name": "python3"
    },
    "language_info": {
      "codemirror_mode": {
        "name": "ipython",
        "version": 3
      },
      "file_extension": ".py",
      "mimetype": "text/x-python",
      "name": "python",
      "nbconvert_exporter": "python",
      "pygments_lexer": "ipython3",
      "version": "3.7.15"
    },
    "colab": {
      "provenance": [],
      "include_colab_link": true
    }
  },
  "nbformat": 4,
  "nbformat_minor": 5
}