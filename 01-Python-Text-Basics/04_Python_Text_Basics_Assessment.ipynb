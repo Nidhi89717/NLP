{
  "cells": [
    {
      "cell_type": "markdown",
      "metadata": {
        "id": "view-in-github",
        "colab_type": "text"
      },
      "source": [
        "<a href=\"https://colab.research.google.com/github/Nidhi89717/NLP/blob/main/01-Python-Text-Basics/04_Python_Text_Basics_Assessment.ipynb\" target=\"_parent\"><img src=\"https://colab.research.google.com/assets/colab-badge.svg\" alt=\"Open In Colab\"/></a>"
      ]
    },
    {
      "cell_type": "markdown",
      "metadata": {
        "collapsed": true,
        "id": "6vXaxt_Atc91"
      },
      "source": [
        "# Python Text Basics Assessment\n",
        "\n",
        "Welcome to your assessment! Complete the tasks described in bold below by typing the relevant code in the cells.<br>\n",
        "You can compare your answers to the Solutions notebook provided in this folder."
      ]
    },
    {
      "cell_type": "markdown",
      "metadata": {
        "id": "c0hI7eSitc91"
      },
      "source": [
        "## f-Strings\n",
        "#### 1. Print an f-string that displays `NLP stands for Natural Language Processing` using the variables provided."
      ]
    },
    {
      "cell_type": "code",
      "execution_count": 21,
      "metadata": {
        "colab": {
          "base_uri": "https://localhost:8080/"
        },
        "id": "VFf89EJHtc91",
        "outputId": "da447b60-455e-4c99-8c04-4fa94e2d4ba9"
      },
      "outputs": [
        {
          "output_type": "stream",
          "name": "stdout",
          "text": [
            "NLP stands for Natural Language Processing\n"
          ]
        }
      ],
      "source": [
        "abbr = 'NLP'\n",
        "full_text = 'Natural Language Processing'\n",
        "\n",
        "# Enter your code here:\n",
        "print(f'{abbr} stands for {full_text}')"
      ]
    },
    {
      "cell_type": "markdown",
      "metadata": {
        "id": "W6E5yhjwtc93"
      },
      "source": [
        "## Files\n",
        "#### 2. Create a file in the current working directory called `contacts.txt` by running the cell below:"
      ]
    },
    {
      "cell_type": "code",
      "execution_count": 38,
      "metadata": {
        "colab": {
          "base_uri": "https://localhost:8080/"
        },
        "id": "_v2MGh9Ctc94",
        "outputId": "f4ef085b-ba05-4b44-a7b9-bb03dd621fe3"
      },
      "outputs": [
        {
          "output_type": "stream",
          "name": "stdout",
          "text": [
            "Overwriting contacts.txt\n"
          ]
        }
      ],
      "source": [
        "%%writefile contacts.txt\n",
        "First_Name Last_Name, Title, Extension, Email"
      ]
    },
    {
      "cell_type": "markdown",
      "metadata": {
        "id": "cM2EHwwTtc94"
      },
      "source": [
        "#### 3. Open the file and use .read() to save the contents of the file to a string called `fields`.  Make sure the file is closed at the end."
      ]
    },
    {
      "cell_type": "code",
      "execution_count": 36,
      "metadata": {
        "colab": {
          "base_uri": "https://localhost:8080/",
          "height": 35
        },
        "id": "P_UH5PQytc95",
        "outputId": "f87c70da-3862-41fc-81f4-71e0ec0082e3"
      },
      "outputs": [
        {
          "output_type": "execute_result",
          "data": {
            "text/plain": [
              "'First_Name Last_Name, Title, Extension, Email\\n'"
            ],
            "application/vnd.google.colaboratory.intrinsic+json": {
              "type": "string"
            }
          },
          "metadata": {},
          "execution_count": 36
        }
      ],
      "source": [
        "# Write your code here:\n",
        "myfile = open('contacts.txt')\n",
        "fields = myfile.read()\n",
        "myfile.close()\n",
        "\n",
        "\n",
        "\n",
        "    \n",
        "# Run fields to see the contents of contacts.txt:\n",
        "fields"
      ]
    },
    {
      "cell_type": "markdown",
      "metadata": {
        "id": "TOMNVyt8tc96"
      },
      "source": [
        "## Working with PDF Files\n",
        "#### 4. Use PyPDF2 to open the file `Business_Proposal.pdf`. Extract the text of page 2."
      ]
    },
    {
      "cell_type": "code",
      "source": [
        "!pip install PyPDF2\n",
        "import PyPDF2"
      ],
      "metadata": {
        "colab": {
          "base_uri": "https://localhost:8080/"
        },
        "id": "zMnDWVJxBgMP",
        "outputId": "57d26471-225a-46ee-9995-f8a0e6b3a6bb"
      },
      "execution_count": 11,
      "outputs": [
        {
          "output_type": "stream",
          "name": "stdout",
          "text": [
            "Looking in indexes: https://pypi.org/simple, https://us-python.pkg.dev/colab-wheels/public/simple/\n",
            "Collecting PyPDF2\n",
            "  Downloading pypdf2-3.0.1-py3-none-any.whl (232 kB)\n",
            "\u001b[2K     \u001b[90m━━━━━━━━━━━━━━━━━━━━━━━━━━━━━━━━━━━━━━━\u001b[0m \u001b[32m232.6/232.6 KB\u001b[0m \u001b[31m5.8 MB/s\u001b[0m eta \u001b[36m0:00:00\u001b[0m\n",
            "\u001b[?25hRequirement already satisfied: typing_extensions>=3.10.0.0 in /usr/local/lib/python3.8/dist-packages (from PyPDF2) (4.4.0)\n",
            "Installing collected packages: PyPDF2\n",
            "Successfully installed PyPDF2-3.0.1\n"
          ]
        }
      ]
    },
    {
      "cell_type": "code",
      "source": [
        "from google.colab import drive\n",
        "drive.mount('/content/gdrive')"
      ],
      "metadata": {
        "colab": {
          "base_uri": "https://localhost:8080/"
        },
        "id": "nvP5aavDDRIX",
        "outputId": "da495273-30b7-4610-aa75-a66697a09a5c"
      },
      "execution_count": 13,
      "outputs": [
        {
          "output_type": "stream",
          "name": "stdout",
          "text": [
            "Mounted at /content/gdrive\n"
          ]
        }
      ]
    },
    {
      "cell_type": "code",
      "source": [
        "# Perform import\n",
        "\n",
        "\n",
        "# Open the file as a binary object\n",
        "myfile = open('gdrive/My Drive/NLP_files/Business_Proposal.pdf',mode='rb')\n",
        "\n",
        "# Use PyPDF2 to read the text of the file\n",
        "pdf_file = PyPDF2.PdfReader(myfile)\n",
        "\n",
        "\n",
        "# Get the text from page 2 (CHALLENGE: Do this in one step!)\n",
        "page_two_text = pdf_file.pages[1].extract_text()\n",
        "\n",
        "\n",
        "\n",
        "# Close the file\n",
        "myfile.close()\n",
        "\n",
        "# Print the contents of page_two_text\n",
        "print(page_two_text)"
      ],
      "metadata": {
        "colab": {
          "base_uri": "https://localhost:8080/"
        },
        "id": "i5fn1i6xCgU-",
        "outputId": "aca69fe4-55c7-451d-d3db-16dc1e13eaa9"
      },
      "execution_count": 32,
      "outputs": [
        {
          "output_type": "stream",
          "name": "stdout",
          "text": [
            "AUTHORS:  \n",
            "Amy Baker, Finance Chair, x345, abaker@ourcompany.com  \n",
            "Chris Donaldson, Accounting Dir., x621, cdonaldson@ourcompany.com  \n",
            "Erin Freeman, Sr. VP, x879, efreeman@ourcompany.com  \n"
          ]
        }
      ]
    },
    {
      "cell_type": "code",
      "execution_count": null,
      "metadata": {
        "id": "x5OJsU8ttc96",
        "outputId": "dfb0b5b3-4a18-4b96-c0a3-6349293e47f2"
      },
      "outputs": [
        {
          "name": "stdout",
          "output_type": "stream",
          "text": [
            "AUTHORS:\n",
            " \n",
            "Amy Baker, Finance Chair, x345, abaker@ourcompany.com\n",
            " \n",
            "Chris Donaldson, Accounting Dir., x621, cdonaldson@ourcompany.com\n",
            " \n",
            "Erin Freeman, Sr. VP, x879, efreeman@ourcompany.com\n",
            " \n",
            "\n"
          ]
        }
      ],
      "source": []
    },
    {
      "cell_type": "markdown",
      "metadata": {
        "id": "omNevfCRtc97"
      },
      "source": [
        "#### 5. Open the file `contacts.txt` in append mode. Add the text of page 2 from above to `contacts.txt`.\n",
        "\n",
        "#### CHALLENGE: See if you can remove the word \"AUTHORS:\""
      ]
    },
    {
      "cell_type": "code",
      "source": [
        "with open('contacts.txt','a+') as f:\n",
        "  f.write(page_two_text)\n",
        "  f.seek(0)\n",
        "  print(f.read())"
      ],
      "metadata": {
        "colab": {
          "base_uri": "https://localhost:8080/"
        },
        "id": "h2loAsBQIRWm",
        "outputId": "690d1ebd-f6d0-483e-ef3d-b382afc2484d"
      },
      "execution_count": 37,
      "outputs": [
        {
          "output_type": "stream",
          "name": "stdout",
          "text": [
            "First_Name Last_Name, Title, Extension, Email\n",
            "AUTHORS:  \n",
            "Amy Baker, Finance Chair, x345, abaker@ourcompany.com  \n",
            "Chris Donaldson, Accounting Dir., x621, cdonaldson@ourcompany.com  \n",
            "Erin Freeman, Sr. VP, x879, efreeman@ourcompany.com  \n"
          ]
        }
      ]
    },
    {
      "cell_type": "code",
      "execution_count": 39,
      "metadata": {
        "colab": {
          "base_uri": "https://localhost:8080/"
        },
        "id": "8sYQS0bYtc98",
        "outputId": "7e5ae045-a597-47c0-d55c-bc597e77a030"
      },
      "outputs": [
        {
          "output_type": "stream",
          "name": "stdout",
          "text": [
            "First_Name Last_Name, Title, Extension, Email\n",
            "  \n",
            "Amy Baker, Finance Chair, x345, abaker@ourcompany.com  \n",
            "Chris Donaldson, Accounting Dir., x621, cdonaldson@ourcompany.com  \n",
            "Erin Freeman, Sr. VP, x879, efreeman@ourcompany.com  \n"
          ]
        }
      ],
      "source": [
        "# Simple Solution:\n",
        "with open('contacts.txt','a+') as f:\n",
        "  f.write(page_two_text[8:])\n",
        "  f.seek(0)\n",
        "  print(f.read())\n",
        "\n",
        "\n"
      ]
    },
    {
      "cell_type": "code",
      "execution_count": null,
      "metadata": {
        "id": "RCv8xRK1tc98",
        "outputId": "b0230540-5b87-406f-d606-5ac6dfbad691"
      },
      "outputs": [
        {
          "name": "stdout",
          "output_type": "stream",
          "text": [
            "First_Name Last_Name, Title, Extension, Email\n",
            " \n",
            "Amy Baker, Finance Chair, x345, abaker@ourcompany.com\n",
            " \n",
            "Chris Donaldson, Accounting Dir., x621, cdonaldson@ourcompany.com\n",
            " \n",
            "Erin Freeman, Sr. VP, x879, efreeman@ourcompany.com\n",
            " \n",
            "\n"
          ]
        }
      ],
      "source": []
    },
    {
      "cell_type": "markdown",
      "metadata": {
        "id": "d3Fl_FENtc99"
      },
      "source": [
        "## Regular Expressions\n",
        "#### 6. Using the `page_two_text` variable created above, extract any email addresses that were contained in the file `Business_Proposal.pdf`."
      ]
    },
    {
      "cell_type": "code",
      "execution_count": 40,
      "metadata": {
        "colab": {
          "base_uri": "https://localhost:8080/"
        },
        "id": "X9EI2WCMtc9-",
        "outputId": "d0b9fa22-9118-484c-abae-365272f9b263"
      },
      "outputs": [
        {
          "output_type": "execute_result",
          "data": {
            "text/plain": [
              "['abaker@ourcompany.com',\n",
              " 'cdonaldson@ourcompany.com',\n",
              " 'efreeman@ourcompany.com']"
            ]
          },
          "metadata": {},
          "execution_count": 40
        }
      ],
      "source": [
        "import re\n",
        "\n",
        "# Enter your regex pattern here. This may take several tries!\n",
        "pattern = r'[\\w]+@[\\w]+.\\w{3}'\n",
        "\n",
        "re.findall(pattern, page_two_text)"
      ]
    },
    {
      "cell_type": "markdown",
      "metadata": {
        "id": "xSA1Gv1mtc9-"
      },
      "source": [
        "### Great job!"
      ]
    }
  ],
  "metadata": {
    "kernelspec": {
      "display_name": "Python 3",
      "language": "python",
      "name": "python3"
    },
    "language_info": {
      "codemirror_mode": {
        "name": "ipython",
        "version": 3
      },
      "file_extension": ".py",
      "mimetype": "text/x-python",
      "name": "python",
      "nbconvert_exporter": "python",
      "pygments_lexer": "ipython3",
      "version": "3.6.2"
    },
    "colab": {
      "provenance": [],
      "include_colab_link": true
    }
  },
  "nbformat": 4,
  "nbformat_minor": 0
}