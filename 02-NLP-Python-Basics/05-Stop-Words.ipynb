{
 "cells": [
  {
   "cell_type": "markdown",
   "id": "4cd287af",
   "metadata": {},
   "source": [
    "# Stop Words\n",
    "Words like \"a\" and \"the\" appear so frequently that they don't require tagging as thoroughly as nouns, verbs and modifiers. We call these *stop words*, and they can be filtered from the text to be processed. spaCy holds a built-in list of some 305 English stop words."
   ]
  },
  {
   "cell_type": "code",
   "execution_count": 1,
   "id": "8cb7e7d1",
   "metadata": {},
   "outputs": [],
   "source": [
    "import spacy"
   ]
  },
  {
   "cell_type": "code",
   "execution_count": 2,
   "id": "23ede6d2",
   "metadata": {},
   "outputs": [],
   "source": [
    "nlp = spacy.load('en_core_web_sm')"
   ]
  },
  {
   "cell_type": "code",
   "execution_count": 4,
   "id": "a466b93b",
   "metadata": {},
   "outputs": [
    {
     "name": "stdout",
     "output_type": "stream",
     "text": [
      "{'again', 'anyway', 'its', 'somewhere', 'seem', 'put', 'yours', 'already', 'ever', 'which', 'front', 'myself', 'everyone', 'however', 'one', 'often', \"'m\", 'least', 'himself', 'are', 'part', 'among', 'quite', 'ten', 'whose', 'her', 'nor', 'n’t', 'almost', 'ours', 'my', 'another', 'whether', 'only', 'itself', 'empty', 'get', 'can', 'must', 'around', 'be', 'besides', 'after', 'seeming', 'at', 'therefore', 'an', 'along', 'give', 'even', 'than', 'other', 'done', 'were', 'perhaps', 'such', 'so', 'whom', 'serious', 'did', 'him', 'sixty', 'where', 'forty', 'whole', 'everything', 'herself', 'is', 'whenever', 'before', 'being', 'within', 'she', 'me', 'because', 'using', 'what', 'we', 'the', 'third', 'of', 'though', 'own', 'once', 'am', 'would', 'each', 'fifteen', 'become', 'twenty', 'former', 'sometime', 'alone', 'between', 'whence', 'seems', 'now', 'upon', 'cannot', 'all', 'out', 'no', 'sometimes', 'side', 'enough', 'to', 'used', 'afterwards', 'rather', 'behind', '‘re', 'eight', 'above', 'over', 'themselves', 'please', 'on', 'these', 'regarding', 'not', 'since', 'fifty', 'as', 'thereby', 'it', 'every', 'their', 'several', '’s', 'there', \"n't\", 'elsewhere', '‘ve', 'move', 'ca', 'too', 'few', 'some', 'anyhow', 'twelve', 'that', 'under', 'you', 'nine', 'and', 'from', 'well', 'still', 'whereas', 'full', 'latter', 'through', 'yet', 'many', 'up', 'became', 'could', '‘ll', 'beside', \"'s\", 'hence', 'otherwise', 'someone', 'also', 'do', 'yourselves', 'others', 'herein', 'his', 'else', 'here', 'next', 'anything', 'amongst', 'go', 'down', 'back', 'who', 'mostly', 'anyone', 'although', 'unless', 'via', 'nobody', 'was', 'noone', 'how', 'first', 'might', 'thence', 'does', 'seemed', 'beyond', 'much', 'more', 'beforehand', 'see', 'call', 'whereby', 'why', 'n‘t', 'onto', 'against', 'this', 'none', 'made', 'indeed', 'into', 'anywhere', 'per', 'take', \"'d\", 'may', 'everywhere', 'until', 'four', '’ll', 'latterly', 'throughout', '‘m', 'yourself', 'various', 'last', 'should', 'always', 'whither', 'been', 'due', 'three', 'something', 'those', '‘d', 'he', 'thus', 'really', 'or', 'two', 'show', 'a', 'wherever', 'very', 'namely', 'will', 'while', 'both', 'nevertheless', 'us', 'hers', 'make', 'in', 'five', 'across', 'whatever', 'moreover', 'thru', 'without', 'thereafter', 'whereupon', 'never', 'same', 'nothing', 'amount', 'has', 'except', 'by', 'neither', 'your', 'but', 'if', \"'ve\", 'most', 're', '’d', 'below', 'our', 'then', 'wherein', 'with', 'ourselves', 'name', 'they', 'hereafter', 'top', 'becomes', 'eleven', 'somehow', 'about', 'bottom', 'have', 'six', 'i', 'whereafter', 'when', 'further', 'had', 'just', 'off', 'hundred', 'either', 'for', 'say', 'any', 'mine', 'them', 'together', 'becoming', 'less', \"'ll\", 'thereupon', 'formerly', 'towards', '’m', 'doing', 'hereby', 'whoever', '’re', '‘s', '’ve', 'keep', 'hereupon', 'nowhere', 'meanwhile', 'during', 'therein', \"'re\", 'toward'}\n"
     ]
    }
   ],
   "source": [
    "print(nlp.Defaults.stop_words)"
   ]
  },
  {
   "cell_type": "code",
   "execution_count": 5,
   "id": "a020fd5b",
   "metadata": {},
   "outputs": [
    {
     "data": {
      "text/plain": [
       "326"
      ]
     },
     "execution_count": 5,
     "metadata": {},
     "output_type": "execute_result"
    }
   ],
   "source": [
    "len(nlp.Defaults.stop_words)"
   ]
  },
  {
   "cell_type": "markdown",
   "id": "f5b4cad5",
   "metadata": {},
   "source": [
    "## To see if a word is a stop word"
   ]
  },
  {
   "cell_type": "code",
   "execution_count": 6,
   "id": "d94f67b5",
   "metadata": {},
   "outputs": [
    {
     "data": {
      "text/plain": [
       "True"
      ]
     },
     "execution_count": 6,
     "metadata": {},
     "output_type": "execute_result"
    }
   ],
   "source": [
    "nlp.vocab['is'].is_stop"
   ]
  },
  {
   "cell_type": "code",
   "execution_count": 7,
   "id": "b5845d5f",
   "metadata": {},
   "outputs": [
    {
     "data": {
      "text/plain": [
       "False"
      ]
     },
     "execution_count": 7,
     "metadata": {},
     "output_type": "execute_result"
    }
   ],
   "source": [
    "nlp.vocab['mystery'].is_stop"
   ]
  },
  {
   "cell_type": "markdown",
   "id": "f0d2a636",
   "metadata": {},
   "source": [
    "## To add a stop word"
   ]
  },
  {
   "cell_type": "code",
   "execution_count": 9,
   "id": "a601248e",
   "metadata": {},
   "outputs": [],
   "source": [
    "nlp.Defaults.stop_words.add('btw')"
   ]
  },
  {
   "cell_type": "code",
   "execution_count": 10,
   "id": "51fbe1d9",
   "metadata": {},
   "outputs": [],
   "source": [
    "nlp.vocab['btw'].is_stop = True"
   ]
  },
  {
   "cell_type": "code",
   "execution_count": 11,
   "id": "077dc0c4",
   "metadata": {},
   "outputs": [
    {
     "data": {
      "text/plain": [
       "327"
      ]
     },
     "execution_count": 11,
     "metadata": {},
     "output_type": "execute_result"
    }
   ],
   "source": [
    "len(nlp.Defaults.stop_words)"
   ]
  },
  {
   "cell_type": "code",
   "execution_count": 12,
   "id": "c8a78a1f",
   "metadata": {},
   "outputs": [
    {
     "data": {
      "text/plain": [
       "True"
      ]
     },
     "execution_count": 12,
     "metadata": {},
     "output_type": "execute_result"
    }
   ],
   "source": [
    "nlp.vocab['btw'].is_stop"
   ]
  },
  {
   "cell_type": "markdown",
   "id": "20ca6f78",
   "metadata": {},
   "source": [
    "When adding stop words, always use lowercase. Lexemes are converted to lowercase before being added to vocab."
   ]
  },
  {
   "cell_type": "markdown",
   "id": "7e72ded4",
   "metadata": {},
   "source": [
    "## To remove a stop word"
   ]
  },
  {
   "cell_type": "code",
   "execution_count": 13,
   "id": "0d78adc6",
   "metadata": {},
   "outputs": [],
   "source": [
    "nlp.Defaults.stop_words.remove('beyond')"
   ]
  },
  {
   "cell_type": "code",
   "execution_count": 15,
   "id": "245ba75e",
   "metadata": {},
   "outputs": [],
   "source": [
    "nlp.vocab['beyond'].is_stop = False"
   ]
  },
  {
   "cell_type": "code",
   "execution_count": 16,
   "id": "eeb700f0",
   "metadata": {},
   "outputs": [
    {
     "data": {
      "text/plain": [
       "False"
      ]
     },
     "execution_count": 16,
     "metadata": {},
     "output_type": "execute_result"
    }
   ],
   "source": [
    "nlp.vocab['beyond'].is_stop"
   ]
  }
 ],
 "metadata": {
  "kernelspec": {
   "display_name": "Python 3 (ipykernel)",
   "language": "python",
   "name": "python3"
  },
  "language_info": {
   "codemirror_mode": {
    "name": "ipython",
    "version": 3
   },
   "file_extension": ".py",
   "mimetype": "text/x-python",
   "name": "python",
   "nbconvert_exporter": "python",
   "pygments_lexer": "ipython3",
   "version": "3.9.13"
  }
 },
 "nbformat": 4,
 "nbformat_minor": 5
}
