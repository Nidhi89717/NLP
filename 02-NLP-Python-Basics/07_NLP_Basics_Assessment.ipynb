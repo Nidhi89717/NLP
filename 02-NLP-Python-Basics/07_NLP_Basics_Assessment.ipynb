{
  "cells": [
    {
      "cell_type": "markdown",
      "metadata": {
        "id": "view-in-github",
        "colab_type": "text"
      },
      "source": [
        "<a href=\"https://colab.research.google.com/github/Nidhi89717/NLP/blob/main/02-NLP-Python-Basics/07_NLP_Basics_Assessment.ipynb\" target=\"_parent\"><img src=\"https://colab.research.google.com/assets/colab-badge.svg\" alt=\"Open In Colab\"/></a>"
      ]
    },
    {
      "cell_type": "markdown",
      "metadata": {
        "id": "3FAyumlO394d"
      },
      "source": [
        "# NLP Basics Assessment"
      ]
    },
    {
      "cell_type": "markdown",
      "metadata": {
        "id": "iiFy3AVW394e"
      },
      "source": [
        "For this assessment we'll be using the short story [_An Occurrence at Owl Creek Bridge_](https://en.wikipedia.org/wiki/An_Occurrence_at_Owl_Creek_Bridge) by Ambrose Bierce (1890). <br>The story is in the public domain; the text file was obtained from [Project Gutenberg](https://www.gutenberg.org/ebooks/375.txt.utf-8)."
      ]
    },
    {
      "cell_type": "code",
      "execution_count": null,
      "metadata": {
        "colab": {
          "base_uri": "https://localhost:8080/"
        },
        "id": "yk3lMA8C394e",
        "outputId": "f39d6aae-c425-41b4-82c7-75f690cdf1d3"
      },
      "outputs": [
        {
          "output_type": "stream",
          "name": "stderr",
          "text": [
            "/usr/local/lib/python3.8/dist-packages/torch/cuda/__init__.py:497: UserWarning: Can't initialize NVML\n",
            "  warnings.warn(\"Can't initialize NVML\")\n"
          ]
        }
      ],
      "source": [
        "# RUN THIS CELL to perform standard imports:\n",
        "import spacy\n",
        "nlp = spacy.load('en_core_web_sm')"
      ]
    },
    {
      "cell_type": "markdown",
      "metadata": {
        "id": "qtWdFJUv394e"
      },
      "source": [
        "**1. Create a Doc object from the file `owlcreek.txt`**<br>\n",
        "> HINT: Use `with open('../TextFiles/owlcreek.txt') as f:`"
      ]
    },
    {
      "cell_type": "code",
      "execution_count": null,
      "metadata": {
        "colab": {
          "base_uri": "https://localhost:8080/"
        },
        "id": "E9uNjW9x394f",
        "outputId": "4554d3cc-d25e-4fec-d429-00bdf4e71f2c"
      },
      "outputs": [
        {
          "output_type": "stream",
          "name": "stdout",
          "text": [
            "Mounted at /content/gdrive\n"
          ]
        }
      ],
      "source": [
        "# Enter your code here:\n",
        "from google.colab import drive\n",
        "drive.mount('/content/gdrive')\n",
        "\n"
      ]
    },
    {
      "cell_type": "code",
      "source": [
        "with open('owlcreek.txt') as f:\n",
        "   doc = nlp(f.read())"
      ],
      "metadata": {
        "id": "Kc26C90l4bBu"
      },
      "execution_count": null,
      "outputs": []
    },
    {
      "cell_type": "code",
      "source": [
        "doc[:36]"
      ],
      "metadata": {
        "colab": {
          "base_uri": "https://localhost:8080/"
        },
        "id": "pTbZjje55bV4",
        "outputId": "0b5b56b0-f44b-4611-cffa-d2510c0ab852"
      },
      "execution_count": null,
      "outputs": [
        {
          "output_type": "execute_result",
          "data": {
            "text/plain": [
              "AN OCCURRENCE AT OWL CREEK BRIDGE\n",
              "\n",
              "by Ambrose Bierce\n",
              "\n",
              "I\n",
              "\n",
              "A man stood upon a railroad bridge in northern Alabama, looking down\n",
              "into the swift water twenty feet below.  "
            ]
          },
          "metadata": {},
          "execution_count": 14
        }
      ]
    },
    {
      "cell_type": "code",
      "execution_count": null,
      "metadata": {
        "id": "zU3OZ1Hh394f",
        "outputId": "febd89ef-e248-42e8-b38a-e16ba4f837d8",
        "colab": {
          "base_uri": "https://localhost:8080/"
        }
      },
      "outputs": [
        {
          "output_type": "execute_result",
          "data": {
            "text/plain": [
              "AN OCCURRENCE AT OWL CREEK BRIDGE\n",
              "\n",
              "by Ambrose Bierce\n",
              "\n",
              "I\n",
              "\n",
              "A man stood upon a railroad bridge in northern Alabama, looking down\n",
              "into the swift water twenty feet below.  "
            ]
          },
          "metadata": {},
          "execution_count": 6
        }
      ],
      "source": [
        "# Run this cell to verify it worked:\n",
        "\n",
        "doc[:36]"
      ]
    },
    {
      "cell_type": "markdown",
      "metadata": {
        "id": "hBmw6cSq394f"
      },
      "source": [
        "**2. How many tokens are contained in the file?**"
      ]
    },
    {
      "cell_type": "code",
      "source": [
        "len(doc)"
      ],
      "metadata": {
        "colab": {
          "base_uri": "https://localhost:8080/"
        },
        "id": "ZX3MtoB57utT",
        "outputId": "539ac1b7-453d-4aa6-8372-6577aec77b81"
      },
      "execution_count": null,
      "outputs": [
        {
          "output_type": "execute_result",
          "data": {
            "text/plain": [
              "4835"
            ]
          },
          "metadata": {},
          "execution_count": 15
        }
      ]
    },
    {
      "cell_type": "markdown",
      "metadata": {
        "id": "1n3hKee7394g"
      },
      "source": [
        "**3. How many sentences are contained in the file?**<br>HINT: You'll want to build a list first!"
      ]
    },
    {
      "cell_type": "code",
      "source": [
        "doc_sentences = [sent for sent in doc.sents]\n",
        "len(doc_sentences)"
      ],
      "metadata": {
        "colab": {
          "base_uri": "https://localhost:8080/"
        },
        "id": "CIMMC1VdQBXw",
        "outputId": "b55d1b59-504f-4660-e382-62c052d78317"
      },
      "execution_count": null,
      "outputs": [
        {
          "output_type": "execute_result",
          "data": {
            "text/plain": [
              "201"
            ]
          },
          "metadata": {},
          "execution_count": 16
        }
      ]
    },
    {
      "cell_type": "markdown",
      "metadata": {
        "id": "xkGmrEhD394g"
      },
      "source": [
        "**4. Print the second sentence in the document**<br> HINT: Indexing starts at zero, and the title counts as the first sentence."
      ]
    },
    {
      "cell_type": "code",
      "source": [
        "print(doc_sentences[1].text)"
      ],
      "metadata": {
        "colab": {
          "base_uri": "https://localhost:8080/"
        },
        "id": "w49yCimKQcCw",
        "outputId": "489842dc-d2c3-47bb-c54c-9eed1f3d90d4"
      },
      "execution_count": null,
      "outputs": [
        {
          "output_type": "stream",
          "name": "stdout",
          "text": [
            "The man's hands were behind\n",
            "his back, the wrists bound with a cord.  \n"
          ]
        }
      ]
    },
    {
      "cell_type": "markdown",
      "metadata": {
        "id": "gqi4ue6E394g"
      },
      "source": [
        "**5. For each token in the sentence above, print its `text`, `POS` tag, `dep` tag and `lemma`<br>\n",
        "CHALLENGE: Have values line up in columns in the print output.**"
      ]
    },
    {
      "cell_type": "code",
      "execution_count": null,
      "metadata": {
        "id": "Yg8oKjA9394g",
        "outputId": "efe79c0c-a5ea-4c5e-b775-1eaf375757b4",
        "colab": {
          "base_uri": "https://localhost:8080/"
        }
      },
      "outputs": [
        {
          "output_type": "stream",
          "name": "stdout",
          "text": [
            "The DET det 7425985699627899538\n",
            "man NOUN poss 3104811030673030468\n",
            "'s PART case 16428057658620181782\n",
            "hands NOUN nsubj 10690717480206833971\n",
            "were AUX ROOT 10382539506755952630\n",
            "behind ADP prep 9368086581607646285\n",
            "\n",
            " SPACE dep 962983613142996970\n",
            "his PRON poss 2661093235354845946\n",
            "back NOUN pobj 15255859468896132977\n",
            ", PUNCT punct 2593208677638477497\n",
            "the DET det 7425985699627899538\n",
            "wrists NOUN attr 40049004327531306\n",
            "bound VERB acl 16578919470474021089\n",
            "with ADP prep 12510949447758279278\n",
            "a DET det 11901859001352538922\n",
            "cord NOUN pobj 8978229881582480158\n",
            ". PUNCT punct 12646065887601541794\n",
            "  SPACE dep 8532415787641010193\n"
          ]
        }
      ],
      "source": [
        "# NORMAL SOLUTION:\n",
        "for token in doc_sentences[1]:\n",
        "  print(f\"{token.text} {token.pos_} {token.dep_} {token.lemma}\")"
      ]
    },
    {
      "cell_type": "code",
      "execution_count": null,
      "metadata": {
        "id": "f2WnuFVA394g",
        "outputId": "0dbd7338-5678-4cd9-fd67-d46a073b92ad",
        "colab": {
          "base_uri": "https://localhost:8080/"
        }
      },
      "outputs": [
        {
          "output_type": "stream",
          "name": "stdout",
          "text": [
            "The             DET        det         7425985699627899538\n",
            "man             NOUN       poss        3104811030673030468\n",
            "'s              PART       case       16428057658620181782\n",
            "hands           NOUN       nsubj      10690717480206833971\n",
            "were            AUX        ROOT       10382539506755952630\n",
            "behind          ADP        prep        9368086581607646285\n",
            "\n",
            "               SPACE      dep          962983613142996970\n",
            "his             PRON       poss        2661093235354845946\n",
            "back            NOUN       pobj       15255859468896132977\n",
            ",               PUNCT      punct       2593208677638477497\n",
            "the             DET        det         7425985699627899538\n",
            "wrists          NOUN       attr          40049004327531306\n",
            "bound           VERB       acl        16578919470474021089\n",
            "with            ADP        prep       12510949447758279278\n",
            "a               DET        det        11901859001352538922\n",
            "cord            NOUN       pobj        8978229881582480158\n",
            ".               PUNCT      punct      12646065887601541794\n",
            "                SPACE      dep         8532415787641010193\n"
          ]
        }
      ],
      "source": [
        "# CHALLENGE SOLUTION:\n",
        "for token in doc_sentences[1]:\n",
        "  print(f\"{token.text:{15}} {token.pos_:{10}} {token.dep_:{10}} {token.lemma:{20}}\")"
      ]
    },
    {
      "cell_type": "markdown",
      "metadata": {
        "id": "URhAyER3394g"
      },
      "source": [
        "**6. Write a matcher called 'Swimming' that finds both occurrences of the phrase \"swimming vigorously\" in the text**<br>\n",
        "HINT: You should include an `'IS_SPACE': True` pattern between the two words!"
      ]
    },
    {
      "cell_type": "code",
      "execution_count": null,
      "metadata": {
        "id": "3Lny2J8V394g"
      },
      "outputs": [],
      "source": [
        "# Import the Matcher library:\n",
        "\n",
        "from spacy.matcher import Matcher\n",
        "matcher = Matcher(nlp.vocab)"
      ]
    },
    {
      "cell_type": "code",
      "execution_count": null,
      "metadata": {
        "id": "1GOy_ID-394g"
      },
      "outputs": [],
      "source": [
        "# Create a pattern and add it to matcher:\n",
        "pattern = [{'LOWER':'swimming'},{'IS_SPACE':True, 'OP':'*'},{'LOWER':'vigorously'}]"
      ]
    },
    {
      "cell_type": "code",
      "source": [
        "matcher.add('swimming',[pattern])"
      ],
      "metadata": {
        "id": "r60--SeQViUQ"
      },
      "execution_count": null,
      "outputs": []
    },
    {
      "cell_type": "code",
      "execution_count": null,
      "metadata": {
        "id": "aaym8tdN394h",
        "outputId": "50c37d98-1027-4b93-9fdc-71e6c983a301",
        "colab": {
          "base_uri": "https://localhost:8080/"
        }
      },
      "outputs": [
        {
          "output_type": "stream",
          "name": "stdout",
          "text": [
            "[(12526975369366237900, 1274, 1277), (12526975369366237900, 3609, 3612)]\n"
          ]
        }
      ],
      "source": [
        "# Create a list of matches called \"found_matches\" and print the list:\n",
        "found_matches = matcher(doc)\n",
        "print(found_matches)"
      ]
    },
    {
      "cell_type": "markdown",
      "metadata": {
        "id": "z9MztxbN394h"
      },
      "source": [
        "**7. Print the text surrounding each found match**"
      ]
    },
    {
      "cell_type": "code",
      "execution_count": null,
      "metadata": {
        "id": "1dJQ2bWV394h",
        "outputId": "2d4d7ef5-8412-40f6-a427-4c4ac8c7deb0",
        "colab": {
          "base_uri": "https://localhost:8080/"
        }
      },
      "outputs": [
        {
          "output_type": "stream",
          "name": "stdout",
          "text": [
            "evade the bullets and, swimming\n",
            "vigorously, reach the bank,\n"
          ]
        }
      ],
      "source": [
        "def surrounding(doc,start,end):\n",
        "  print(doc[start-5:end+5])\n",
        "\n",
        "surrounding(doc,1274,1277)"
      ]
    },
    {
      "cell_type": "code",
      "execution_count": null,
      "metadata": {
        "id": "EuziY_Lx394h",
        "outputId": "5330dd0e-2e81-4ebf-be26-973d94a29d57",
        "colab": {
          "base_uri": "https://localhost:8080/"
        }
      },
      "outputs": [
        {
          "output_type": "stream",
          "name": "stdout",
          "text": [
            "shoulder; he was now swimming\n",
            "vigorously with the current.  \n"
          ]
        }
      ],
      "source": [
        "surrounding(doc,3609,3612)"
      ]
    },
    {
      "cell_type": "markdown",
      "metadata": {
        "id": "toBStjip394h"
      },
      "source": [
        "**EXTRA CREDIT:<br>Print the *sentence* that contains each found match**"
      ]
    },
    {
      "cell_type": "code",
      "execution_count": null,
      "metadata": {
        "id": "f7q3TefA394h",
        "outputId": "4536a505-97d8-4a63-d9bc-458ee4bec4a7",
        "colab": {
          "base_uri": "https://localhost:8080/"
        }
      },
      "outputs": [
        {
          "output_type": "stream",
          "name": "stdout",
          "text": [
            "By diving I could evade the bullets and, swimming\n",
            "vigorously, reach the bank, take to the woods and get away home.  \n"
          ]
        }
      ],
      "source": [
        "for sentences in doc_sentences:\n",
        "  if found_matches[0][1] < sentences.end:\n",
        "    print(sentences)\n",
        "    break\n",
        "\n",
        "\n"
      ]
    },
    {
      "cell_type": "code",
      "execution_count": null,
      "metadata": {
        "id": "WQG4IU6V394h",
        "outputId": "72f531a2-bc6b-48b1-d9e7-60b62b75eff3",
        "colab": {
          "base_uri": "https://localhost:8080/"
        }
      },
      "outputs": [
        {
          "output_type": "stream",
          "name": "stdout",
          "text": [
            "The hunted man saw all this over his shoulder; he was now swimming\n",
            "vigorously with the current.  \n"
          ]
        }
      ],
      "source": [
        "for sentences in doc_sentences:\n",
        "  if found_matches[1][1] < sentences.end:\n",
        "    print(sentences)\n",
        "    break\n",
        "\n"
      ]
    },
    {
      "cell_type": "markdown",
      "metadata": {
        "id": "5R2jYVq_394h"
      },
      "source": [
        "### Great Job!"
      ]
    }
  ],
  "metadata": {
    "kernelspec": {
      "display_name": "Python 3",
      "language": "python",
      "name": "python3"
    },
    "language_info": {
      "codemirror_mode": {
        "name": "ipython",
        "version": 3
      },
      "file_extension": ".py",
      "mimetype": "text/x-python",
      "name": "python",
      "nbconvert_exporter": "python",
      "pygments_lexer": "ipython3",
      "version": "3.6.2"
    },
    "colab": {
      "provenance": [],
      "include_colab_link": true
    }
  },
  "nbformat": 4,
  "nbformat_minor": 0
}